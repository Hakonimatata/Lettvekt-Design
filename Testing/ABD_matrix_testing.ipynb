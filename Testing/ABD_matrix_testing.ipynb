{
 "cells": [
  {
   "cell_type": "code",
   "execution_count": 1,
   "id": "065cb2eb",
   "metadata": {},
   "outputs": [],
   "source": [
    "# imports\n",
    "from laminatelib import laminateStiffnessMatrix\n",
    "import numpy as np"
   ]
  },
  {
   "cell_type": "code",
   "execution_count": 2,
   "id": "3ae7fe43",
   "metadata": {},
   "outputs": [],
   "source": [
    "# Material\n",
    "cfrp = {\"name\": \"CFRP\", \"units\": \"MPa-mm-Mg\", \"type\": \"UD\", \"fiber\": \"Carbon\",\n",
    "        \"Vf\": 0.55, \"rho\": 1600E-12,\n",
    "        \"description\": \"Vacuum infused UD carbon (T300)\",  \n",
    "        \"E1\": 130000, \"E2\": 10000, \"E3\": 10000, \n",
    "        \"v12\": 0.28, \"v13\": 0.28, \"v23\": 0.5, \n",
    "        \"G12\": 4500, \"G13\": 4500, \"G23\": 3500, \n",
    "        \"a1\": -0.5e-06, \"a2\": 3.0e-05, \"a3\": 3.0e-05, \n",
    "        \"XT\": 1400, \"YT\": 30, \"ZT\": 30,\n",
    "        \"XC\":  900, \"YC\": 120, \"ZC\": 120,\n",
    "        \"S12\": 60, \"S13\": 60, \"S23\": 30,\n",
    "        \"f12\":-0.5, \"f13\":-0.5, \"f23\":-0.5}"
   ]
  },
  {
   "cell_type": "code",
   "execution_count": 4,
   "id": "8884c7c7",
   "metadata": {},
   "outputs": [
    {
     "name": "stdout",
     "output_type": "stream",
     "text": [
      "[[ 281699.   11268.       0. -120728.      -0.       0.]\n",
      " [  11268.  281699.       0.       0.  120728.       0.]\n",
      " [      0.       0.   18000.       0.       0.       0.]\n",
      " [-120728.      -0.       0.  375598.   15024.       0.]\n",
      " [      0.  120728.       0.   15024.  375598.       0.]\n",
      " [      0.       0.       0.       0.       0.   24000.]] \n",
      "\n",
      "[[ 281699.   11268.       0.  120728.       0.      -0.]\n",
      " [  11268.  281699.       0.      -0. -120728.      -0.]\n",
      " [      0.       0.   18000.      -0.      -0.       0.]\n",
      " [ 120728.       0.      -0.  375598.   15024.       0.]\n",
      " [     -0. -120728.      -0.   15024.  375598.       0.]\n",
      " [     -0.      -0.       0.       0.       0.   24000.]]\n"
     ]
    }
   ],
   "source": [
    "# Layup\n",
    "layup  = [ \n",
    "        {'mat':cfrp , 'ori':  0  , 'thi':1},\n",
    "        {'mat':cfrp , 'ori': 90  , 'thi':1},\n",
    "        {'mat':cfrp , 'ori':  0  , 'thi':1}, \n",
    "        {'mat':cfrp , 'ori': 90  , 'thi':1},\n",
    "]\n",
    "layup2  = [ \n",
    "        {'mat':cfrp , 'ori': 90  , 'thi':1},\n",
    "        {'mat':cfrp , 'ori':  0  , 'thi':1},\n",
    "        {'mat':cfrp , 'ori': 90  , 'thi':1},\n",
    "        {'mat':cfrp , 'ori':  0  , 'thi':1},\n",
    "]\n",
    "\n",
    "# Calculate effective stress\n",
    "ABD = laminateStiffnessMatrix(layup)\n",
    "print(np.round(ABD), '\\n')\n",
    "ABD = laminateStiffnessMatrix(layup2)\n",
    "print(np.round(ABD))"
   ]
  }
 ],
 "metadata": {
  "kernelspec": {
   "display_name": "base",
   "language": "python",
   "name": "python3"
  },
  "language_info": {
   "codemirror_mode": {
    "name": "ipython",
    "version": 3
   },
   "file_extension": ".py",
   "mimetype": "text/x-python",
   "name": "python",
   "nbconvert_exporter": "python",
   "pygments_lexer": "ipython3",
   "version": "3.11.5"
  }
 },
 "nbformat": 4,
 "nbformat_minor": 5
}
