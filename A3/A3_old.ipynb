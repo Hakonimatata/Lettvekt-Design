{
 "cells": [
  {
   "cell_type": "markdown",
   "metadata": {},
   "source": [
    "# Assignment 3"
   ]
  },
  {
   "cell_type": "markdown",
   "metadata": {},
   "source": [
    "### Imports And Functions"
   ]
  },
  {
   "cell_type": "code",
   "execution_count": 33,
   "metadata": {},
   "outputs": [],
   "source": [
    "import matlib\n",
    "import numpy as np\n",
    "\n",
    "def illustrateCurvatures(Kx,Ky,Kxy):\n",
    "    from mpl_toolkits.mplot3d import Axes3D\n",
    "    import matplotlib.pyplot as plt\n",
    "    from matplotlib import cm\n",
    "    from matplotlib.ticker import LinearLocator, FormatStrFormatter\n",
    "    import numpy as np\n",
    "    fig, ax = plt.subplots(subplot_kw={\"projection\": \"3d\"})\n",
    "    #ax = fig.gca(projection='3d')\n",
    "    ax = fig.gca()\n",
    "    # Make data.\n",
    "    X = np.arange(-0.5, 0.6, 0.1)\n",
    "    Y = np.arange(-0.5, 0.6, 0.1)\n",
    "    X, Y = np.meshgrid(X, Y)\n",
    "    Z1 =  (- Kx*X**2 - Ky*Y**2 - Kxy*X*Y)/2\n",
    "    surf1 = ax.plot_surface(X, Y, Z1, cmap=cm.coolwarm,\n",
    "                        linewidth=0, antialiased=False)\n",
    "\n",
    "def laminateThickness(layup):\n",
    "    return np.sum([layer['thi'] for layer in layup])\n",
    "\n",
    "def S2D(m):\n",
    "    return np.array([[        1/m['E1'], -m['v12']/m['E1'],          0],\n",
    "                     [-m['v12']/m['E1'],         1/m['E2'],          0],\n",
    "                     [                0,                 0, 1/m['G12']]], float)\n",
    "\n",
    "def T2Ds(rot):\n",
    "    c,s = np.cos(np.radians(rot)), np.sin(np.radians(rot))\n",
    "    return np.array([[ c*c ,  s*s ,   2*c*s],\n",
    "                     [ s*s ,  c*c ,  -2*c*s],\n",
    "                     [-c*s,   c*s , c*c-s*s]], float)\n",
    "\n",
    "def T2De(rot):\n",
    "    c,s = np.cos(np.radians(rot)), np.sin(np.radians(rot))\n",
    "    return np.array([[   c*c,   s*s,     c*s ],\n",
    "                     [   s*s,   c*c,    -c*s ],\n",
    "                     [-2*c*s, 2*c*s, c*c-s*s ]], float)\n",
    "\n",
    "def Q2D(m,rot=0):\n",
    "    S=S2D(m)\n",
    "    Q=np.linalg.inv(S)\n",
    "    if rot==0:\n",
    "        return Q\n",
    "    else:\n",
    "        return np.dot(np.linalg.inv( T2Ds(rot) ) , np.dot(Q,T2De(rot)) )\n",
    "\n",
    "def laminateStiffnessMatrix(layup):\n",
    "    ABD=np.zeros((6,6),float)\n",
    "    hbot = -laminateThickness(layup)/2    \n",
    "    for layer in layup:\n",
    "        htop = hbot + layer['thi'] \n",
    "        Qt = Q2D( layer['mat'], layer['ori'])\n",
    "        ABD[0:3,0:3] = ABD[0:3,0:3] +       Qt*(htop   -hbot   )\n",
    "        ABD[0:3,3:6] = ABD[0:3,3:6] + (1/2)*Qt*(htop**2-hbot**2)\n",
    "        ABD[3:6,0:3] = ABD[3:6,0:3] + (1/2)*Qt*(htop**2-hbot**2)\n",
    "        ABD[3:6,3:6] = ABD[3:6,3:6] + (1/3)*Qt*(htop**3-hbot**3)\n",
    "        hbot=htop   \n",
    "    return ABD"
   ]
  },
  {
   "cell_type": "markdown",
   "metadata": {},
   "source": [
    "# Layup 1"
   ]
  },
  {
   "cell_type": "code",
   "execution_count": 54,
   "metadata": {},
   "outputs": [],
   "source": [
    "m1 = matlib.get('Carbon/Epoxy(a)')\n",
    "\n",
    "layup1 = [\n",
    "        {'mat': m1, 'ori':  0.0, 'thi': 1.0},\n",
    "        {'mat': m1, 'ori':-45.0, 'thi': 2.0},\n",
    "        {'mat': m1, 'ori':  0.0, 'thi': 1.0},\n",
    "        {'mat': m1, 'ori': 45.0, 'thi': 2.0},\n",
    "        {'mat': m1, 'ori':  0.0, 'thi': 1.0},\n",
    "]"
   ]
  },
  {
   "cell_type": "markdown",
   "metadata": {},
   "source": [
    "### 3 Point Bending Test"
   ]
  },
  {
   "cell_type": "code",
   "execution_count": 52,
   "metadata": {},
   "outputs": [
    {
     "name": "stdout",
     "output_type": "stream",
     "text": [
      "w = 13.354 mm\n"
     ]
    }
   ],
   "source": [
    "def get_bendingStiffness(layup, b=1):\n",
    "    ADB = laminateStiffnessMatrix(layup)\n",
    "    Dxs = ADB[3, 5]\n",
    "    Dys = ADB[4, 5]\n",
    "    if Dxs != 0 or Dys != 0:\n",
    "        raise Exception(\"Dxs or Dys != 0\")\n",
    "    return ADB[3,3] - (ADB[3,4]**2)/ADB[4,4]\n",
    "\n",
    "def timoshenkoDeformation(F, L, layup, b=1):\n",
    "    bendingStiffness = get_bendingStiffness(layup)\n",
    "    w_kir = (F*L**3)/(48*bendingStiffness)\n",
    "    K = 0.8333333333333\n",
    "    m = layup[0]['mat']\n",
    "    G=(3*m['G12']+2*m['G23'])/6\n",
    "    h = laminateThickness(layup)\n",
    "    w_tim = (F*L)/(4*K*G*b*h)\n",
    "    return w_kir + w_tim\n",
    "\n",
    "w = timoshenkoDeformation(F=100000.0, L=10.0, layup=layup1, b=1)\n",
    "\n",
    "print('w = {:.3f} mm'.format(w))\n"
   ]
  },
  {
   "cell_type": "markdown",
   "metadata": {},
   "source": [
    "# Tsai-Wu top"
   ]
  },
  {
   "cell_type": "code",
   "execution_count": null,
   "metadata": {},
   "outputs": [],
   "source": []
  }
 ],
 "metadata": {
  "kernelspec": {
   "display_name": "base",
   "language": "python",
   "name": "python3"
  },
  "language_info": {
   "codemirror_mode": {
    "name": "ipython",
    "version": 3
   },
   "file_extension": ".py",
   "mimetype": "text/x-python",
   "name": "python",
   "nbconvert_exporter": "python",
   "pygments_lexer": "ipython3",
   "version": "3.11.5"
  }
 },
 "nbformat": 4,
 "nbformat_minor": 2
}
