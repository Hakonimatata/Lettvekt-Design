{
 "cells": [
  {
   "cell_type": "code",
   "execution_count": 2,
   "metadata": {},
   "outputs": [],
   "source": [
    "import numpy as np\n",
    "import matplotlib.pyplot as plt\n",
    "\n",
    "MAX_HEIGHT = 75         # [mm]\n",
    "PROFILE_WIDTH = 200     # [mm]\n",
    "wheel_base = 1200       # [mm]\n",
    "L = 3600                # [mm]\n",
    "M = 200                 # [kg]\n",
    "g = 9.81                # [m/s^2]\n",
    "F_point = M * g / 4.0   # [N] (per wheel)\n",
    "\n",
    "a = (L - wheel_base) / 2.0 # [mm] distance frome edge to point load (wheel)"
   ]
  },
  {
   "cell_type": "markdown",
   "metadata": {},
   "source": [
    "### Calculate Peak Moment"
   ]
  },
  {
   "cell_type": "code",
   "execution_count": 3,
   "metadata": {},
   "outputs": [
    {
     "name": "stdout",
     "output_type": "stream",
     "text": [
      "294300.0\n"
     ]
    }
   ],
   "source": [
    "M_max = F_point * a / 2.0\n",
    "print(M_max)"
   ]
  },
  {
   "cell_type": "markdown",
   "metadata": {},
   "source": [
    "### Calculate Bending Stiffness"
   ]
  },
  {
   "cell_type": "code",
   "execution_count": 4,
   "metadata": {},
   "outputs": [
    {
     "name": "stdout",
     "output_type": "stream",
     "text": [
      "2.1789973333333332e+16\n"
     ]
    }
   ],
   "source": [
    "h = MAX_HEIGHT  # [mm]\n",
    "t = 0.5         # [mm]\n",
    "E = 70e9        # [N/mm^2] (Alu)\n",
    "Iy = (1.0/12.0) * (PROFILE_WIDTH * h**3 - (PROFILE_WIDTH-2*t) * (h-2*t)**3)\n",
    "BendingStiffness = E * Iy\n",
    "\n",
    "print(BendingStiffness)"
   ]
  },
  {
   "cell_type": "markdown",
   "metadata": {},
   "source": [
    "### Calculate Deformation in Wheel Contact Point"
   ]
  },
  {
   "cell_type": "code",
   "execution_count": 5,
   "metadata": {},
   "outputs": [
    {
     "name": "stdout",
     "output_type": "stream",
     "text": [
      "1.728795140027707e-05\n"
     ]
    }
   ],
   "source": [
    "def w(x, F, L, a, b, EI):\n",
    "    if x <= a:\n",
    "        return F*b*x / (6*EI*L) * (L**2 - b**2 - x**2)\n",
    "    else:\n",
    "        return F*a*(L-x) / (6*EI*L) * (2*L*x - a**2 - x**2)\n",
    "\n",
    "# Find total deformation in pos a for both point loads\n",
    "w1 = w(x=a, F=F_point, L=L, a=a, b=(L-a), EI=BendingStiffness)\n",
    "w2 = w(x=a, F=F_point, L=L, a=(L-a), b=a, EI=BendingStiffness)\n",
    "w_tot_a = w1 + w2\n",
    "print(w1)"
   ]
  },
  {
   "cell_type": "markdown",
   "metadata": {},
   "source": [
    "### Calculate Mass"
   ]
  },
  {
   "cell_type": "code",
   "execution_count": 6,
   "metadata": {},
   "outputs": [
    {
     "name": "stdout",
     "output_type": "stream",
     "text": [
      "2663.28\n"
     ]
    }
   ],
   "source": [
    "rho = 0.0027 # g/mm^3\n",
    "mass = (PROFILE_WIDTH * h - (PROFILE_WIDTH-2*t) * (h-2*t)) * L * rho\n",
    "print(mass)"
   ]
  },
  {
   "cell_type": "markdown",
   "metadata": {},
   "source": [
    "### Calculate deformations"
   ]
  },
  {
   "cell_type": "code",
   "execution_count": 7,
   "metadata": {},
   "outputs": [
    {
     "name": "stdout",
     "output_type": "stream",
     "text": [
      "3.727714520684743e-05\n",
      "2400.0\n"
     ]
    },
    {
     "data": {
      "image/png": "[encoded data removed]",
      "text/plain": [
       "<Figure size 640x480 with 1 Axes>"
      ]
     },
     "metadata": {},
     "output_type": "display_data"
    }
   ],
   "source": [
    "F1 = F_point\n",
    "F2 = F_point\n",
    "\n",
    "w01 = F1*L**3/(48*BendingStiffness) # nedbøyningskoeffisient for F1 (bakre hjulpar)\n",
    "w02 = F2*L**3/(48*BendingStiffness) # nedbøyningskoeffisient for F2 (fremre hjulpar)\n",
    "\n",
    "step_size = 10.0\n",
    "\n",
    "x = np.arange(0.0,L + wheel_base, step_size)\n",
    "antall_punkter = len(x)\n",
    "\n",
    "x_rear = x-wheel_base\n",
    "\n",
    "w = np.zeros(len(x))\n",
    "\n",
    "for i in range(antall_punkter):\n",
    "    if x[i] <= wheel_base:\n",
    "        w[i] = w01*(4.0*(x[i]/L)**3.0 - 3.0*x[i]/L) \n",
    "    elif x[i] <= L/2.0:\n",
    "        w[i] = w01*(4.0*(x[i]/L)**3.0 - 3.0*x[i]/L) + w02*(4.0*(x_rear[i]/L)**3.0 - 3.0*x_rear[i]/L)     \n",
    "    elif x[i] <= L/2.0 + wheel_base:\n",
    "        w[i] = w01*(4.0*((L-x[i])/L)**3.0 - 3.0*(L-x[i])/L) + w02*(4.0*(x_rear[i]/L)**3.0 - 3.0*x_rear[i]/L)    \n",
    "    elif x[i] <= L:\n",
    "        w[i] = w01*(4.0*((L-x[i])/L)**3.0 - 3.0*(L-x[i])/L) + w02*(4.0*((L-x_rear[i])/L)**3.0 - 3.0*(L-x_rear[i])/L) \n",
    "    else:\n",
    "        w[i] = w02*(4.0*((L-x_rear[i])/L)**3.0 - 3.0*(L-x_rear[i])/L) \n",
    "        \n",
    "w_abs = np.abs(w)\n",
    "w_max = np.max(w_abs)\n",
    "index_ved_w_max = np.argmax(w_abs)\n",
    "x_ved_w_max = x[index_ved_w_max]\n",
    "\n",
    "print(w_max)\n",
    "print(x_ved_w_max)\n",
    "\n",
    "plt.plot(x-wheel_base,w)\n",
    "plt.plot(x_ved_w_max-wheel_base,-w_max, 'o')\n",
    "plt.show()  \n"
   ]
  },
  {
   "cell_type": "markdown",
   "metadata": {},
   "source": [
    "### Shell element Mid plane offset deviations"
   ]
  },
  {
   "cell_type": "code",
   "execution_count": 36,
   "metadata": {},
   "outputs": [
    {
     "name": "stdout",
     "output_type": "stream",
     "text": [
      "[ 99.94 100.57 101.14 101.66 102.14 102.58 102.99 103.37 103.72]\n"
     ]
    }
   ],
   "source": [
    "t = 3\n",
    "max_spars = 8\n",
    "\n",
    "I_approx_list = np.zeros(max_spars+1)\n",
    "I_analytical_list = np.zeros(max_spars+1)\n",
    "\n",
    "# Calculate box profile \n",
    "I_horizontal_approx = (1.0/12.0) * (PROFILE_WIDTH - t) * t**3 + ((h - t)/2.0)**2 * (PROFILE_WIDTH - t) * t # Steiners sats bunn eller topp\n",
    "I_vertical_approx = (1.0/12.0) * (t) * (h - t)**3 # Steiners sats høyre eller venstre side\n",
    "I_box_approx = 2 * I_horizontal_approx + 2 * I_vertical_approx\n",
    "I_approx_list[0] = I_box_approx\n",
    "\n",
    "# Calculate analytical\n",
    "I_box_analytical = (1.0/12.0) * (PROFILE_WIDTH * h**3 - (PROFILE_WIDTH-2*t) * (h-2*t)**3)\n",
    "I_analytical_list[0] = I_box_analytical\n",
    "I_spar_analytical = (1.0/12.0) * t * (h-2*t)**3\n",
    "\n",
    "# add spars\n",
    "for i in range(max_spars):\n",
    "    # add spar contribution to I and append to list\n",
    "    I_box_approx += I_vertical_approx\n",
    "    I_approx_list[i+1] = I_box_approx\n",
    "\n",
    "    I_box_analytical += I_spar_analytical\n",
    "    I_analytical_list[i+1] = I_box_analytical\n",
    "\n",
    "\n",
    "print(np.round(I_approx_list/I_analytical_list * 100, 2))"
   ]
  }
 ],
 "metadata": {
  "kernelspec": {
   "display_name": "base",
   "language": "python",
   "name": "python3"
  },
  "language_info": {
   "codemirror_mode": {
    "name": "ipython",
    "version": 3
   },
   "file_extension": ".py",
   "mimetype": "text/x-python",
   "name": "python",
   "nbconvert_exporter": "python",
   "pygments_lexer": "ipython3",
   "version": "3.11.5"
  }
 },
 "nbformat": 4,
 "nbformat_minor": 2
}
